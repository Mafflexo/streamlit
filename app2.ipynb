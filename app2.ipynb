{
 "cells": [
  {
   "cell_type": "code",
   "execution_count": 1,
   "metadata": {},
   "outputs": [],
   "source": [
    "import streamlit as st\n",
    "import requests"
   ]
  },
  {
   "cell_type": "code",
   "execution_count": 2,
   "metadata": {},
   "outputs": [],
   "source": [
    "def search(keyword, category):\n",
    "    base_url = \"https://swapi.dev/api/\"\n",
    "    url = f\"{base_url}{category}/?search={keyword}\"\n",
    "    response = requests.get(url)\n",
    "    if response.status_code == 200:\n",
    "        results = response.json()['results']\n",
    "        return results\n",
    "    else:\n",
    "        return []"
   ]
  },
  {
   "cell_type": "code",
   "execution_count": 3,
   "metadata": {},
   "outputs": [],
   "source": [
    "def display_results(results):\n",
    "    for result in results:\n",
    "        name = result['name']\n",
    "        st.write(f\"Nom : {name}\")\n",
    "        for key, value in result.items():\n",
    "            if key != \"name\":\n",
    "                st.write(f\"{key.capitalize()} : {value}\")\n",
    "        st.write(\"---\")"
   ]
  },
  {
   "cell_type": "code",
   "execution_count": null,
   "metadata": {},
   "outputs": [],
   "source": []
  }
 ],
 "metadata": {
  "kernelspec": {
   "display_name": "Python 3",
   "language": "python",
   "name": "python3"
  },
  "language_info": {
   "codemirror_mode": {
    "name": "ipython",
    "version": 3
   },
   "file_extension": ".py",
   "mimetype": "text/x-python",
   "name": "python",
   "nbconvert_exporter": "python",
   "pygments_lexer": "ipython3",
   "version": "3.8.12"
  },
  "orig_nbformat": 4,
  "vscode": {
   "interpreter": {
    "hash": "749f751cef763966b1529d15e0c18224b66ea581f5ab7c7b58a6a7bce47c295e"
   }
  }
 },
 "nbformat": 4,
 "nbformat_minor": 2
}
